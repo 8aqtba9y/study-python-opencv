{
 "cells": [
  {
   "cell_type": "markdown",
   "metadata": {},
   "source": [
    "### OepnCV - find contour - (1)"
   ]
  },
  {
   "cell_type": "code",
   "execution_count": 22,
   "metadata": {},
   "outputs": [],
   "source": [
    "import numpy as np\n",
    "import cv2\n",
    "from matplotlib import pyplot as plt"
   ]
  },
  {
   "cell_type": "code",
   "execution_count": 23,
   "metadata": {},
   "outputs": [],
   "source": [
    "def contour1():\n",
    "    imgfile = 'images/sample3.png'\n",
    "    img = cv2.imread(imgfile)\n",
    "    imgray = cv2.cvtColor(img, cv2.COLOR_BGR2GRAY)\n",
    "    \n",
    "    edge = cv2.Canny(imgray, 100, 200)\n",
    "    image, contours, hierarchy = cv2.findContours(edge, cv2.RETR_TREE, cv2.CHAIN_APPROX_SIMPLE)\n",
    "    \n",
    "    #cv2.imshow('edge', edge)\n",
    "    cv2.drawContours(img, contours, -1, (127, 127, 127), 3)\n",
    "    #cv2.imshow('contour', img)\n",
    "    \n",
    "    fig, axs = plt.subplots(nrows=1, ncols=2)\n",
    "    axs[0].set_title('edge')\n",
    "    axs[0].imshow(edge)\n",
    "    axs[1].set_title('contour')\n",
    "    axs[1].imshow(img)\n",
    "    plt.show()\n",
    "    \n",
    "    #cv2.waitKey(0)\n",
    "    #cv2.imwrite('results/contourImage3_1.png', img)\n",
    "    #cv2.destroyAllWindows()\n",
    "    #cv2.waitKey(1)"
   ]
  },
  {
   "cell_type": "code",
   "execution_count": 7,
   "metadata": {},
   "outputs": [],
   "source": [
    "contour1()"
   ]
  },
  {
   "cell_type": "markdown",
   "metadata": {},
   "source": [
    "### OepnCV - find contour - (2)"
   ]
  },
  {
   "cell_type": "code",
   "execution_count": 20,
   "metadata": {},
   "outputs": [],
   "source": [
    "def contour_approx1():\n",
    "    imgfile = 'images/sample4.png'\n",
    "    img = cv2.imread(imgfile)\n",
    "    img2 = img.copy()\n",
    "    imgray = cv2.cvtColor(img, cv2.COLOR_BGR2GRAY)\n",
    "    \n",
    "    edge = cv2.Canny(imgray, 100, 200)\n",
    "    image, contours, hierarchy = cv2.findContours(edge, cv2.RETR_TREE, cv2.CHAIN_APPROX_SIMPLE)\n",
    "    \n",
    "    cnt = contours[0]\n",
    "    cv2.drawContours(img, contours, -1, (127, 127, 127), 3)\n",
    "    \n",
    "    epsilon = 0.1 * cv2.arcLength(cnt, True) # 許容値（※今回は閉曲線の周りに比例）\n",
    "    approx = cv2.approxPolyDP(cnt, epsilon, True) # 許容値(<-0) =~ contours\n",
    "    cv2.drawContours(img2, [approx], -1, (127, 127, 127), 3)\n",
    "    \n",
    "    #print(cnt)\n",
    "    #print(approx)\n",
    "    \n",
    "    #cv2.imshow('contour', img)\n",
    "    #cv2.imshow('contour_approx', img2)\n",
    "\n",
    "    fig, axs = plt.subplots(nrows=1, ncols=2)\n",
    "    axs[0].set_title('img')\n",
    "    axs[0].imshow(img)\n",
    "    axs[1].set_title('img2')\n",
    "    axs[1].imshow(img2)\n",
    "    plt.show()\n",
    "    \n",
    "    #cv2.waitKey(0)\n",
    "    #cv2.imwrite('results/contourImage3_2.png', img)\n",
    "    #cv2.imwrite('results/contourImage3_3.png', img2)\n",
    "    #cv2.destroyAllWindows()\n",
    "    #cv2.waitKey(1)"
   ]
  },
  {
   "cell_type": "code",
   "execution_count": 21,
   "metadata": {},
   "outputs": [
    {
     "data": {
      "image/png": "[encoded data removed]",
      "text/plain": [
       "<matplotlib.figure.Figure at 0x1222a80f0>"
      ]
     },
     "metadata": {},
     "output_type": "display_data"
    }
   ],
   "source": [
    "contour_approx1()"
   ]
  },
  {
   "cell_type": "code",
   "execution_count": null,
   "metadata": {},
   "outputs": [],
   "source": []
  }
 ],
 "metadata": {
  "kernelspec": {
   "display_name": "Python 3",
   "language": "python",
   "name": "python3"
  },
  "language_info": {
   "codemirror_mode": {
    "name": "ipython",
    "version": 3
   },
   "file_extension": ".py",
   "mimetype": "text/x-python",
   "name": "python",
   "nbconvert_exporter": "python",
   "pygments_lexer": "ipython3",
   "version": "3.6.4"
  }
 },
 "nbformat": 4,
 "nbformat_minor": 2
}
